{
  "nbformat": 4,
  "nbformat_minor": 0,
  "metadata": {
    "colab": {
      "provenance": []
    },
    "kernelspec": {
      "name": "python3",
      "display_name": "Python 3"
    },
    "language_info": {
      "name": "python"
    }
  },
  "cells": [
    {
      "cell_type": "markdown",
      "source": [
        "# ©All rights reserved by **Showaib bin Nasir** - https://showaibbinnasirportfolio.netlify.app/"
      ],
      "metadata": {
        "id": "A0QNEuPOrrKf"
      }
    },
    {
      "cell_type": "markdown",
      "source": [
        "***Installing netCDF4 for utilizing netCDF***"
      ],
      "metadata": {
        "id": "cA-wYJ-hrc9Y"
      }
    },
    {
      "cell_type": "code",
      "execution_count": 1,
      "metadata": {
        "colab": {
          "base_uri": "https://localhost:8080/"
        },
        "id": "Q2uhdjvfpqEK",
        "outputId": "24893c8b-6d06-4cd0-b7cb-976e761c52d8"
      },
      "outputs": [
        {
          "output_type": "stream",
          "name": "stdout",
          "text": [
            "Collecting netCDF4\n",
            "  Downloading netCDF4-1.7.2-cp310-cp310-manylinux_2_17_x86_64.manylinux2014_x86_64.whl.metadata (1.8 kB)\n",
            "Collecting cftime (from netCDF4)\n",
            "  Downloading cftime-1.6.4.post1-cp310-cp310-manylinux_2_17_x86_64.manylinux2014_x86_64.whl.metadata (8.7 kB)\n",
            "Requirement already satisfied: certifi in /usr/local/lib/python3.10/dist-packages (from netCDF4) (2024.12.14)\n",
            "Requirement already satisfied: numpy in /usr/local/lib/python3.10/dist-packages (from netCDF4) (1.26.4)\n",
            "Downloading netCDF4-1.7.2-cp310-cp310-manylinux_2_17_x86_64.manylinux2014_x86_64.whl (9.1 MB)\n",
            "\u001b[2K   \u001b[90m━━━━━━━━━━━━━━━━━━━━━━━━━━━━━━━━━━━━━━━━\u001b[0m \u001b[32m9.1/9.1 MB\u001b[0m \u001b[31m25.7 MB/s\u001b[0m eta \u001b[36m0:00:00\u001b[0m\n",
            "\u001b[?25hDownloading cftime-1.6.4.post1-cp310-cp310-manylinux_2_17_x86_64.manylinux2014_x86_64.whl (1.3 MB)\n",
            "\u001b[2K   \u001b[90m━━━━━━━━━━━━━━━━━━━━━━━━━━━━━━━━━━━━━━━━\u001b[0m \u001b[32m1.3/1.3 MB\u001b[0m \u001b[31m31.1 MB/s\u001b[0m eta \u001b[36m0:00:00\u001b[0m\n",
            "\u001b[?25hInstalling collected packages: cftime, netCDF4\n",
            "Successfully installed cftime-1.6.4.post1 netCDF4-1.7.2\n"
          ]
        }
      ],
      "source": [
        "!pip install netCDF4\n"
      ]
    },
    {
      "cell_type": "markdown",
      "source": [
        "***Importing Dataset from netCDF4***"
      ],
      "metadata": {
        "id": "6FGx0lIasMAn"
      }
    },
    {
      "cell_type": "code",
      "source": [
        "from netCDF4 import Dataset\n"
      ],
      "metadata": {
        "id": "fLOTRvMdqFyc"
      },
      "execution_count": 1,
      "outputs": []
    },
    {
      "cell_type": "markdown",
      "source": [
        "***Defining path of original file***"
      ],
      "metadata": {
        "id": "3z8N-fh9sXdM"
      }
    },
    {
      "cell_type": "code",
      "source": [
        "file_path = '/content/chirps-v2.0.annual.nc' #netCDF file link\n",
        "nc_file = Dataset(file_path, mode='r')\n"
      ],
      "metadata": {
        "id": "PYZTugSKr6tW"
      },
      "execution_count": 2,
      "outputs": []
    },
    {
      "cell_type": "markdown",
      "source": [
        "***Checking the structure of the file***"
      ],
      "metadata": {
        "id": "KzRLGfGv9zTj"
      }
    },
    {
      "cell_type": "code",
      "source": [
        "print(nc_file)"
      ],
      "metadata": {
        "colab": {
          "base_uri": "https://localhost:8080/"
        },
        "id": "GJKy7ijZsirC",
        "outputId": "2bdabee8-c45d-4c3a-adcf-6ea35c784187"
      },
      "execution_count": 3,
      "outputs": [
        {
          "output_type": "stream",
          "name": "stdout",
          "text": [
            "<class 'netCDF4.Dataset'>\n",
            "root group (NETCDF4 data model, file format HDF5):\n",
            "    Conventions: CF-1.6\n",
            "    title: CHIRPS Version 2.0\n",
            "    history: created by Climate Hazards Group\n",
            "    version: Version 2.0\n",
            "    date_created: 2024-01-11\n",
            "    creator_name: Pete Peterson\n",
            "    creator_email: pete@geog.ucsb.edu\n",
            "    institution: Climate Hazards Group.  University of California at Santa Barbara\n",
            "    documentation: http://pubs.usgs.gov/ds/832/\n",
            "    reference: Funk, C.C., Peterson, P.J., Landsfeld, M.F., Pedreros, D.H., Verdin, J.P., Rowland, J.D., Romero, B.E., Husak, G.J., Michaelsen, J.C., and Verdin, A.P., 2014, A quasi-global precipitation time series for drought monitoring: U.S. Geological Survey Data Series 832, 4 p., http://dx.doi.org/110.3133/ds832. \n",
            "    comments:  time variable denotes the first day of the given year.\n",
            "    acknowledgements: The Climate Hazards Group InfraRed Precipitation with Stations development process was carried out through U.S. Geological Survey (USGS) cooperative agreement #G09AC000001 \"Monitoring and Forecasting Climate, Water and Land Use for Food Production in the Developing World\" with funding from: U.S. Agency for International Development Office of Food for Peace, award #AID-FFP-P-10-00002 for \"Famine Early Warning Systems Network Support,\" the National Aeronautics and Space Administration Applied Sciences Program, Decisions award #NN10AN26I for \"A Land Data Assimilation System for Famine Early Warning,\" SERVIR award #NNH12AU22I for \"A Long Time-Series Indicator of Agricultural Drought for the Greater Horn of Africa,\" The National Oceanic and Atmospheric Administration award NA11OAR4310151 for \"A Global Standardized Precipitation Index supporting the US Drought Portal and the Famine Early Warning System Network,\" and the USGS Land Change Science Program.\n",
            "    ftp_url: ftp://chg-ftpout.geog.ucsb.edu/pub/org/chg/products/CHIRPS-latest/\n",
            "    website: http://chg.geog.ucsb.edu/data/chirps/index.html\n",
            "    faq: http://chg-wiki.geog.ucsb.edu/wiki/CHIRPS_FAQ\n",
            "    dimensions(sizes): longitude(7200), latitude(2000), time(43)\n",
            "    variables(dimensions): float32 latitude(latitude), float32 longitude(longitude), float32 precip(time, latitude, longitude), float32 time(time)\n",
            "    groups: \n"
          ]
        }
      ]
    },
    {
      "cell_type": "markdown",
      "source": [
        "***Checking dimensions and variables***"
      ],
      "metadata": {
        "id": "EJwnGuJU-Dz7"
      }
    },
    {
      "cell_type": "code",
      "source": [
        "print(nc_file.dimensions.keys())"
      ],
      "metadata": {
        "colab": {
          "base_uri": "https://localhost:8080/"
        },
        "id": "ExC6rESHsswv",
        "outputId": "a5235e5f-044b-49c3-a3a0-f50bc0aafd99"
      },
      "execution_count": 4,
      "outputs": [
        {
          "output_type": "stream",
          "name": "stdout",
          "text": [
            "dict_keys(['longitude', 'latitude', 'time'])\n"
          ]
        }
      ]
    },
    {
      "cell_type": "code",
      "source": [
        "print(nc_file.variables.keys())"
      ],
      "metadata": {
        "colab": {
          "base_uri": "https://localhost:8080/"
        },
        "id": "3ADiVajZsyeB",
        "outputId": "1f34ab32-e19b-4715-f88e-1bdf7c4c2b10"
      },
      "execution_count": 5,
      "outputs": [
        {
          "output_type": "stream",
          "name": "stdout",
          "text": [
            "dict_keys(['latitude', 'longitude', 'precip', 'time'])\n"
          ]
        }
      ]
    },
    {
      "cell_type": "markdown",
      "source": [
        "***Checking weather the coordinates of chittagong is exist or not***"
      ],
      "metadata": {
        "id": "x6UM3R7w-ICt"
      }
    },
    {
      "cell_type": "code",
      "source": [
        "import numpy as np\n",
        "latitude = nc_file.variables['latitude'][:]\n",
        "longitude = nc_file.variables['longitude'][:]\n",
        "\n",
        "# Define the city's coordinates (Chittagong, Bangladesh)\n",
        "city_lat = 22.3569\n",
        "city_lon = 91.7832\n",
        "lat_exists = np.any(np.isclose(latitude, city_lat, atol=0.1))\n",
        "lon_exists = np.any(np.isclose(longitude, city_lon, atol=0.1))\n",
        "if lat_exists and lon_exists:\n",
        "    print(\"Chittagong exists in the dataset!\")\n",
        "else:\n",
        "    print(\"Chittagong does not exist in the dataset.\")\n"
      ],
      "metadata": {
        "colab": {
          "base_uri": "https://localhost:8080/"
        },
        "id": "qw5ly7sx3qX-",
        "outputId": "fde3faed-f47e-4e73-8c50-88df3a4a6763"
      },
      "execution_count": 6,
      "outputs": [
        {
          "output_type": "stream",
          "name": "stdout",
          "text": [
            "Chittagong exists in the dataset!\n"
          ]
        }
      ]
    },
    {
      "cell_type": "markdown",
      "source": [
        "***Finding the yearly data from precipitations***"
      ],
      "metadata": {
        "id": "b_LI320r-Qzh"
      }
    },
    {
      "cell_type": "code",
      "source": [
        "import numpy as np\n",
        "precip = nc_file.variables['precip'][:]\n",
        "time = nc_file.variables['time'][:]\n",
        "lat_idx = np.argmin(np.abs(latitude - city_lat))\n",
        "lon_idx = np.argmin(np.abs(longitude - city_lon))\n",
        "city_precip = precip[:, lat_idx, lon_idx]\n",
        "print(f\"Yearly precipitation for Chittagong (Lat: {latitude[lat_idx]}, Lon: {longitude[lon_idx]}):\")\n",
        "for t, precip_value in enumerate(city_precip):\n",
        "    print(f\"Year {t + 1}: Precipitation = {precip_value} mm/year\")\n"
      ],
      "metadata": {
        "colab": {
          "base_uri": "https://localhost:8080/"
        },
        "id": "7ClhD1mf0bYP",
        "outputId": "44051e27-fef4-439b-ad6d-086676f3eebb"
      },
      "execution_count": 7,
      "outputs": [
        {
          "output_type": "stream",
          "name": "stdout",
          "text": [
            "Yearly precipitation for Chittagong (Lat: 22.375, Lon: 91.77499389648438):\n",
            "Year 1: Precipitation = 2958.538818359375 mm/year\n",
            "Year 2: Precipitation = 2888.331298828125 mm/year\n",
            "Year 3: Precipitation = 3454.39208984375 mm/year\n",
            "Year 4: Precipitation = 3280.471435546875 mm/year\n",
            "Year 5: Precipitation = 2819.4814453125 mm/year\n",
            "Year 6: Precipitation = 2842.270263671875 mm/year\n",
            "Year 7: Precipitation = 3061.319580078125 mm/year\n",
            "Year 8: Precipitation = 3311.30517578125 mm/year\n",
            "Year 9: Precipitation = 2458.58544921875 mm/year\n",
            "Year 10: Precipitation = 2671.96484375 mm/year\n",
            "Year 11: Precipitation = 2568.026123046875 mm/year\n",
            "Year 12: Precipitation = 2557.381103515625 mm/year\n",
            "Year 13: Precipitation = 3134.93212890625 mm/year\n",
            "Year 14: Precipitation = 2632.046875 mm/year\n",
            "Year 15: Precipitation = 3193.55810546875 mm/year\n",
            "Year 16: Precipitation = 2786.989013671875 mm/year\n",
            "Year 17: Precipitation = 3355.35400390625 mm/year\n",
            "Year 18: Precipitation = 2791.165283203125 mm/year\n",
            "Year 19: Precipitation = 3198.627685546875 mm/year\n",
            "Year 20: Precipitation = 3098.869873046875 mm/year\n",
            "Year 21: Precipitation = 3015.61279296875 mm/year\n",
            "Year 22: Precipitation = 2977.432861328125 mm/year\n",
            "Year 23: Precipitation = 2769.923583984375 mm/year\n",
            "Year 24: Precipitation = 2916.143310546875 mm/year\n",
            "Year 25: Precipitation = 2416.97705078125 mm/year\n",
            "Year 26: Precipitation = 2498.96240234375 mm/year\n",
            "Year 27: Precipitation = 3426.43505859375 mm/year\n",
            "Year 28: Precipitation = 2725.568603515625 mm/year\n",
            "Year 29: Precipitation = 2984.60693359375 mm/year\n",
            "Year 30: Precipitation = 2744.294677734375 mm/year\n",
            "Year 31: Precipitation = 3447.59326171875 mm/year\n",
            "Year 32: Precipitation = 2885.849609375 mm/year\n",
            "Year 33: Precipitation = 2516.45703125 mm/year\n",
            "Year 34: Precipitation = 2889.591796875 mm/year\n",
            "Year 35: Precipitation = 3638.416748046875 mm/year\n",
            "Year 36: Precipitation = 3065.7724609375 mm/year\n",
            "Year 37: Precipitation = 4202.92333984375 mm/year\n",
            "Year 38: Precipitation = 2634.197998046875 mm/year\n",
            "Year 39: Precipitation = 3208.260986328125 mm/year\n",
            "Year 40: Precipitation = 3311.71337890625 mm/year\n",
            "Year 41: Precipitation = 3082.400390625 mm/year\n",
            "Year 42: Precipitation = 2358.8037109375 mm/year\n",
            "Year 43: Precipitation = 3100.751708984375 mm/year\n"
          ]
        }
      ]
    },
    {
      "cell_type": "markdown",
      "source": [
        "***Adjusting with calender time***"
      ],
      "metadata": {
        "id": "5L1339YM-ZDt"
      }
    },
    {
      "cell_type": "code",
      "source": [
        "from datetime import datetime, timedelta\n",
        "time_units = nc_file.variables['time'].units\n",
        "print(f\"Time units: {time_units}\")\n",
        "base_date = datetime.strptime(time_units.split('since')[1].strip(), \"%Y-%m-%d %H:%M:%S\")\n",
        "dates = [base_date + timedelta(days=int(t)) for t in time]\n",
        "print(f\"Yearly precipitation for Chittagong:\")\n",
        "for date, precip_value in zip(dates, city_precip):\n",
        "    print(f\"Year {date.year} : Precipitation = {precip_value} mm/year\")\n"
      ],
      "metadata": {
        "colab": {
          "base_uri": "https://localhost:8080/"
        },
        "id": "B7DvBapi1PXA",
        "outputId": "b8473021-4269-4101-d7de-99f087d2896f"
      },
      "execution_count": 8,
      "outputs": [
        {
          "output_type": "stream",
          "name": "stdout",
          "text": [
            "Time units: days since 1980-1-1 0:0:0\n",
            "Yearly precipitation for Chittagong:\n",
            "Year 1981 : Precipitation = 2958.538818359375 mm/year\n",
            "Year 1982 : Precipitation = 2888.331298828125 mm/year\n",
            "Year 1983 : Precipitation = 3454.39208984375 mm/year\n",
            "Year 1984 : Precipitation = 3280.471435546875 mm/year\n",
            "Year 1985 : Precipitation = 2819.4814453125 mm/year\n",
            "Year 1986 : Precipitation = 2842.270263671875 mm/year\n",
            "Year 1987 : Precipitation = 3061.319580078125 mm/year\n",
            "Year 1988 : Precipitation = 3311.30517578125 mm/year\n",
            "Year 1989 : Precipitation = 2458.58544921875 mm/year\n",
            "Year 1990 : Precipitation = 2671.96484375 mm/year\n",
            "Year 1991 : Precipitation = 2568.026123046875 mm/year\n",
            "Year 1992 : Precipitation = 2557.381103515625 mm/year\n",
            "Year 1993 : Precipitation = 3134.93212890625 mm/year\n",
            "Year 1994 : Precipitation = 2632.046875 mm/year\n",
            "Year 1995 : Precipitation = 3193.55810546875 mm/year\n",
            "Year 1996 : Precipitation = 2786.989013671875 mm/year\n",
            "Year 1997 : Precipitation = 3355.35400390625 mm/year\n",
            "Year 1998 : Precipitation = 2791.165283203125 mm/year\n",
            "Year 1999 : Precipitation = 3198.627685546875 mm/year\n",
            "Year 2000 : Precipitation = 3098.869873046875 mm/year\n",
            "Year 2001 : Precipitation = 3015.61279296875 mm/year\n",
            "Year 2002 : Precipitation = 2977.432861328125 mm/year\n",
            "Year 2003 : Precipitation = 2769.923583984375 mm/year\n",
            "Year 2004 : Precipitation = 2916.143310546875 mm/year\n",
            "Year 2005 : Precipitation = 2416.97705078125 mm/year\n",
            "Year 2006 : Precipitation = 2498.96240234375 mm/year\n",
            "Year 2007 : Precipitation = 3426.43505859375 mm/year\n",
            "Year 2008 : Precipitation = 2725.568603515625 mm/year\n",
            "Year 2009 : Precipitation = 2984.60693359375 mm/year\n",
            "Year 2010 : Precipitation = 2744.294677734375 mm/year\n",
            "Year 2011 : Precipitation = 3447.59326171875 mm/year\n",
            "Year 2012 : Precipitation = 2885.849609375 mm/year\n",
            "Year 2013 : Precipitation = 2516.45703125 mm/year\n",
            "Year 2014 : Precipitation = 2889.591796875 mm/year\n",
            "Year 2015 : Precipitation = 3638.416748046875 mm/year\n",
            "Year 2016 : Precipitation = 3065.7724609375 mm/year\n",
            "Year 2017 : Precipitation = 4202.92333984375 mm/year\n",
            "Year 2018 : Precipitation = 2634.197998046875 mm/year\n",
            "Year 2019 : Precipitation = 3208.260986328125 mm/year\n",
            "Year 2020 : Precipitation = 3311.71337890625 mm/year\n",
            "Year 2021 : Precipitation = 3082.400390625 mm/year\n",
            "Year 2022 : Precipitation = 2358.8037109375 mm/year\n",
            "Year 2023 : Precipitation = 3100.751708984375 mm/year\n"
          ]
        }
      ]
    },
    {
      "cell_type": "markdown",
      "source": [
        "***Converting the year data of Chittagong city to CSV file and visualizing data***"
      ],
      "metadata": {
        "id": "gE8t1r0m-kMj"
      }
    },
    {
      "cell_type": "code",
      "source": [
        "import pandas as pd\n",
        "import matplotlib.pyplot as plt\n",
        "\n",
        "data = []\n",
        "for t in range(len(time)):\n",
        "    year = (base_date + timedelta(days=int(time[t]))).year\n",
        "    chittagong_precip = precip[t, lat_idx, lon_idx]\n",
        "    data.append([year, chittagong_precip])\n",
        "df_yearly = pd.DataFrame(data, columns=['Year', 'Precipitation (mm/year)'])\n",
        "yearly_precip = df_yearly.groupby('Year')['Precipitation (mm/year)'].sum().reset_index()\n",
        "yearly_precip.to_csv('chittagong_yearly_precipitation.csv', index=False)\n",
        "print(yearly_precip)\n",
        "plt.figure(figsize=(15, 8))\n",
        "yearly_precip.plot(kind='bar', x='Year', y='Precipitation (mm/year)', color='skyblue')\n",
        "plt.title('Total Yearly Precipitation for Chittagong')\n",
        "plt.xlabel('Year')\n",
        "plt.ylabel('Total Precipitation (mm/year)')\n",
        "plt.xticks(rotation=45)\n",
        "plt.tight_layout()\n",
        "plt.show()\n"
      ],
      "metadata": {
        "colab": {
          "base_uri": "https://localhost:8080/",
          "height": 1000
        },
        "id": "pIRs_Waa7THb",
        "outputId": "332caca5-61d3-4d45-c89a-2442bb3ac91a"
      },
      "execution_count": 15,
      "outputs": [
        {
          "output_type": "stream",
          "name": "stdout",
          "text": [
            "    Year  Precipitation (mm/year)\n",
            "0   1981              2958.538818\n",
            "1   1982              2888.331299\n",
            "2   1983              3454.392090\n",
            "3   1984              3280.471436\n",
            "4   1985              2819.481445\n",
            "5   1986              2842.270264\n",
            "6   1987              3061.319580\n",
            "7   1988              3311.305176\n",
            "8   1989              2458.585449\n",
            "9   1990              2671.964844\n",
            "10  1991              2568.026123\n",
            "11  1992              2557.381104\n",
            "12  1993              3134.932129\n",
            "13  1994              2632.046875\n",
            "14  1995              3193.558105\n",
            "15  1996              2786.989014\n",
            "16  1997              3355.354004\n",
            "17  1998              2791.165283\n",
            "18  1999              3198.627686\n",
            "19  2000              3098.869873\n",
            "20  2001              3015.612793\n",
            "21  2002              2977.432861\n",
            "22  2003              2769.923584\n",
            "23  2004              2916.143311\n",
            "24  2005              2416.977051\n",
            "25  2006              2498.962402\n",
            "26  2007              3426.435059\n",
            "27  2008              2725.568604\n",
            "28  2009              2984.606934\n",
            "29  2010              2744.294678\n",
            "30  2011              3447.593262\n",
            "31  2012              2885.849609\n",
            "32  2013              2516.457031\n",
            "33  2014              2889.591797\n",
            "34  2015              3638.416748\n",
            "35  2016              3065.772461\n",
            "36  2017              4202.923340\n",
            "37  2018              2634.197998\n",
            "38  2019              3208.260986\n",
            "39  2020              3311.713379\n",
            "40  2021              3082.400391\n",
            "41  2022              2358.803711\n",
            "42  2023              3100.751709\n"
          ]
        },
        {
          "output_type": "display_data",
          "data": {
            "text/plain": [
              "<Figure size 1500x800 with 0 Axes>"
            ]
          },
          "metadata": {}
        },
        {
          "output_type": "display_data",
          "data": {
            "text/plain": [
              "<Figure size 640x480 with 1 Axes>"
            ],
            "image/png": "[encoded data removed]"
          },
          "metadata": {}
        }
      ]
    }
  ]
}